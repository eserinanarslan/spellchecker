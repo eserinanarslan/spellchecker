{
 "cells": [
  {
   "cell_type": "markdown",
   "metadata": {},
   "source": [
    "# Analyzis of the zero hit pages results\n",
    "The dates used for tracking the zero hit queries were between 6th June to 8th June as the product's inverted index was created on 10th June.\n",
    "\n",
    "The results shows that 50.8(~51%) of the instances are landing on zero hits even though the queries have greater than 35% match against the product index.\n",
    "\n",
    "Of different possible reasons one could be the normalization part of the SEBE and hence this will influence our evaluation of the ML spellchecker in the online mode post BE integration. Therefore we have resorted to test the ML spellchecker against the existing SEBE spellchecker in a completely offline mode by calling the BE spellchecker API.\n"
   ]
  },
  {
   "cell_type": "code",
   "execution_count": 1,
   "metadata": {},
   "outputs": [],
   "source": [
    "import os\n",
    "os.environ.update({'MODIN_ENGINE': 'ray'}) # setting the compute engine for MODIN"
   ]
  },
  {
   "cell_type": "code",
   "execution_count": 2,
   "metadata": {},
   "outputs": [],
   "source": [
    "import json\n",
    "import datetime\n",
    "import sys\n",
    "import os\n",
    "sys.path.append(os.path.join('..','src'))\n",
    "from collections import defaultdict\n",
    "\n",
    "import matplotlib.pyplot as plt \n",
    "import numpy as np\n",
    "#import pandas as pd\n",
    "import modin.pandas as pd\n",
    "from google.cloud import bigquery\n",
    "from tqdm.auto import tqdm\n",
    "\n",
    "from utils import TextCleaner\n",
    "from utils import take\n",
    "from str_utils import has_digits\n",
    "\n",
    "%load_ext autoreload\n",
    "%autoreload 2"
   ]
  },
  {
   "cell_type": "code",
   "execution_count": 3,
   "metadata": {},
   "outputs": [],
   "source": [
    "\n",
    "client = bigquery.Client(project='ecom-ai-poc')\n",
    "textCleaner = TextCleaner()\n",
    "tqdm.pandas(desc=\"Progress\")"
   ]
  },
  {
   "cell_type": "markdown",
   "metadata": {},
   "source": [
    "#### For windows users\n",
    "* Install awk - https://stackoverflow.com/questions/21927944/how-to-run-an-awk-commands-in-windows\n",
    "* Run - conda install posix"
   ]
  },
  {
   "cell_type": "code",
   "execution_count": 4,
   "metadata": {},
   "outputs": [
    {
     "data": {
      "text/plain": [
       "'2021/06/09'"
      ]
     },
     "execution_count": 4,
     "metadata": {},
     "output_type": "execute_result"
    }
   ],
   "source": [
    "file_creation_date = !gsutil ls -l gs://search-ml-spellchecker/doc_counts.txt | awk '{print $2}' | head -1 | cut -d 'T' -f1\n",
    "file_creation_date = file_creation_date[0].replace('-', '/')\n",
    "file_creation_date"
   ]
  },
  {
   "cell_type": "code",
   "execution_count": 5,
   "metadata": {},
   "outputs": [
    {
     "data": {
      "text/plain": [
       "('20210605', '20210608')"
      ]
     },
     "execution_count": 5,
     "metadata": {},
     "output_type": "execute_result"
    }
   ],
   "source": [
    "datetime_ = datetime.datetime.strptime(file_creation_date, '%Y/%m/%d')\n",
    "start_date = datetime_ + datetime.timedelta(days = -4)\n",
    "start_date = start_date.date().strftime('%Y%m%d')\n",
    "\n",
    "end_date = datetime_ + datetime.timedelta(days = -1)\n",
    "end_date = end_date.date().strftime('%Y%m%d')\n",
    "start_date, end_date"
   ]
  },
  {
   "cell_type": "code",
   "execution_count": 6,
   "metadata": {},
   "outputs": [],
   "source": [
    "# Downloading the data from the bucket which contains the terms with their frequency\n",
    "\n",
    "# The doc_counts.txt file is a byproduct of generation of product index by the SEBE team\n",
    "# for the use by DSC team.\n",
    "\n",
    "# The file contains a token that appeared in the product index and its count accross different \n",
    "# fields in the index.\n",
    "!gsutil cp gs://search-ml-spellchecker/doc_counts.txt ."
   ]
  },
  {
   "cell_type": "code",
   "execution_count": 7,
   "metadata": {},
   "outputs": [
    {
     "name": "stderr",
     "output_type": "stream",
     "text": [
      "Copying gs://search-ml-spellchecker/doc_counts.txt...\n",
      "/ [0 files][    0.0 B/  6.6 MiB]                                                \n",
      "/ [1 files][  6.6 MiB/  6.6 MiB]                                                \n",
      "\n",
      "Operation completed over 1 objects/6.6 MiB.                                      \n"
     ]
    },
    {
     "data": {
      "text/plain": [
       "['aaa', 'aaaa', 'aaaaa', 'aaac', 'aaamicro']"
      ]
     },
     "execution_count": 7,
     "metadata": {},
     "output_type": "execute_result"
    }
   ],
   "source": [
    "# Loading the data from the file \n",
    "filename = 'doc_counts.txt'\n",
    "words_counts = defaultdict(int)\n",
    "with open(filename) as fh:\n",
    "    for line in fh:\n",
    "        command, count = line.strip().split(None, 1)\n",
    "        words_counts[command] += int(count.strip())\n",
    "take(5, words_counts)\n"
   ]
  },
  {
   "cell_type": "code",
   "execution_count": 8,
   "metadata": {},
   "outputs": [
    {
     "data": {
      "text/plain": [
       "8"
      ]
     },
     "execution_count": 8,
     "metadata": {},
     "output_type": "execute_result"
    }
   ],
   "source": [
    "\n",
    "# serialize the docs count\n",
    "out_file = open(\"doc_counts.json\", \"w\")\n",
    "json.dump(words_counts, out_file, indent=2, sort_keys=False)\n",
    "out_file.close()\n",
    "\n",
    "words_counts['aaamicro']"
   ]
  },
  {
   "cell_type": "code",
   "execution_count": 9,
   "metadata": {},
   "outputs": [
    {
     "data": {
      "text/plain": [
       "(32168, 3)"
      ]
     },
     "execution_count": 9,
     "metadata": {},
     "output_type": "execute_result"
    }
   ],
   "source": [
    "# This sql script queries the search terms that led to zero hit\n",
    "# on the date 2021-12-06 as the product index was created on 2021-12-10.\n",
    "sql_query = f\"\"\"\n",
    "SELECT search_keyword, SUM(CAST(custom_hit_count as NUMERIC)) as total_custom_hit_count, \n",
    "       SUM(product_count) as total_product_count\n",
    "            FROM (\n",
    "\n",
    "              SELECT DISTINCT c1.value as search_keyword, \n",
    "              c8.value as custom_hit_count, \n",
    "              COUNT(p.productSKU) as product_count\n",
    "\n",
    "              FROM `valiant-metric-166707.36328697.ga_sessions_*` a,\n",
    "              UNNEST(a.hits) b\n",
    "              LEFT JOIN UNNEST(b.customDimensions) c1 ON (c1.index = 26)   #SearchKeyword\n",
    "              LEFT JOIN UNNEST(b.customDimensions) c2 ON (c2.index = 5)    #Page Type\n",
    "              LEFT JOIN UNNEST(b.customDimensions) c3 ON (c3.index = 91)   #FilterName\n",
    "              LEFT JOIN UNNEST(b.customDimensions) c4 on (c4.index = 30)   #SortType\n",
    "              LEFT JOIN UNNEST(b.customDimensions) c5 on (c5.index = 29)   #Pagenumber\n",
    "              LEFT JOIN UNNEST(b.customDimensions) c6 on (c6.index = 28)   #SearchSuggest\n",
    "              LEFT JOIN UNNEST(b.customDimensions) c7 on (c7.index = 3)    #Shop language the customer is using\n",
    "              LEFT JOIN UNNEST(b.customDimensions) c8 on (c8.index = 25)   #Total number of search results\n",
    "              LEFT JOIN UNNEST(b.product) p\n",
    "              WHERE c1.value != ''                                   #Remove searches without searchterm\n",
    "                  AND c2.value = 'Search Results'                    #Remove categorypage, brandpage etc.\n",
    "                  AND c3.value IS NULL                               #Remove searches where a filter is applied\n",
    "                  AND c5.value = '1'                                 #Limit to first page\n",
    "                  AND (c6.value != 'category' OR c6.value IS NULL)   #Remove Categories from Suggest\n",
    "                  AND (c7.value= 'de')\n",
    "                  AND _TABLE_SUFFIX BETWEEN '{start_date}' AND '{end_date}'\n",
    "              GROUP BY search_keyword, custom_hit_count\n",
    "            )\n",
    "            GROUP BY search_keyword\n",
    "            HAVING total_custom_hit_count = 0 AND total_product_count = 0\n",
    "\"\"\"\n",
    "query_df = client.query(sql_query).result().to_dataframe()\n",
    "query_df = query_df.astype({\"total_custom_hit_count\": int})\n",
    "query_df.shape"
   ]
  },
  {
   "cell_type": "code",
   "execution_count": 10,
   "metadata": {},
   "outputs": [
    {
     "name": "stderr",
     "output_type": "stream",
     "text": [
      "Progress: 100%|██████████| 32168/32168 [00:00<00:00, 45496.42it/s]\n"
     ]
    },
    {
     "data": {
      "text/plain": [
       "(26778, 4)"
      ]
     },
     "execution_count": 10,
     "metadata": {},
     "output_type": "execute_result"
    }
   ],
   "source": [
    "# Normalizing, cleaning the data\n",
    "query_df['clean_search_keyword'] = query_df['search_keyword'].progress_apply(\n",
    "    lambda x: textCleaner.clean(x))\n",
    "# filtering data with length more than 3 letters \n",
    "query_df = query_df[(query_df.clean_search_keyword.str.len() >= 3)]\n",
    "query_df.shape\n"
   ]
  },
  {
   "cell_type": "code",
   "execution_count": 11,
   "metadata": {},
   "outputs": [
    {
     "data": {
      "text/html": [
       "<div>\n",
       "<style scoped>\n",
       "    .dataframe tbody tr th:only-of-type {\n",
       "        vertical-align: middle;\n",
       "    }\n",
       "\n",
       "    .dataframe tbody tr th {\n",
       "        vertical-align: top;\n",
       "    }\n",
       "\n",
       "    .dataframe thead th {\n",
       "        text-align: right;\n",
       "    }\n",
       "</style>\n",
       "<table border=\"1\" class=\"dataframe\">\n",
       "  <thead>\n",
       "    <tr style=\"text-align: right;\">\n",
       "      <th></th>\n",
       "      <th>search_keyword</th>\n",
       "      <th>total_custom_hit_count</th>\n",
       "      <th>total_product_count</th>\n",
       "      <th>clean_search_keyword</th>\n",
       "    </tr>\n",
       "  </thead>\n",
       "  <tbody>\n",
       "    <tr>\n",
       "      <th>32163</th>\n",
       "      <td>golf 4 microschalter</td>\n",
       "      <td>0</td>\n",
       "      <td>0</td>\n",
       "      <td>golf 4 microschalter</td>\n",
       "    </tr>\n",
       "    <tr>\n",
       "      <th>32164</th>\n",
       "      <td>12v boilwe</td>\n",
       "      <td>0</td>\n",
       "      <td>0</td>\n",
       "      <td>12v boilwe</td>\n",
       "    </tr>\n",
       "    <tr>\n",
       "      <th>32165</th>\n",
       "      <td>adapter grafikarte msi 24 pol</td>\n",
       "      <td>0</td>\n",
       "      <td>0</td>\n",
       "      <td>adapter grafikarte msi 24 pol</td>\n",
       "    </tr>\n",
       "    <tr>\n",
       "      <th>32166</th>\n",
       "      <td>2x Molex Stecker auf PCI-E 8 pin</td>\n",
       "      <td>0</td>\n",
       "      <td>0</td>\n",
       "      <td>2x molex stecker auf pci e 8 pin</td>\n",
       "    </tr>\n",
       "    <tr>\n",
       "      <th>32167</th>\n",
       "      <td>nym 5x 4mm² 50m</td>\n",
       "      <td>0</td>\n",
       "      <td>0</td>\n",
       "      <td>nym 5x 4mm2 50m</td>\n",
       "    </tr>\n",
       "  </tbody>\n",
       "</table>\n",
       "</div>"
      ],
      "text/plain": [
       "                         search_keyword  total_custom_hit_count  \\\n",
       "32163              golf 4 microschalter                       0   \n",
       "32164                        12v boilwe                       0   \n",
       "32165     adapter grafikarte msi 24 pol                       0   \n",
       "32166  2x Molex Stecker auf PCI-E 8 pin                       0   \n",
       "32167                   nym 5x 4mm² 50m                       0   \n",
       "\n",
       "       total_product_count              clean_search_keyword  \n",
       "32163                    0              golf 4 microschalter  \n",
       "32164                    0                        12v boilwe  \n",
       "32165                    0     adapter grafikarte msi 24 pol  \n",
       "32166                    0  2x molex stecker auf pci e 8 pin  \n",
       "32167                    0                   nym 5x 4mm2 50m  "
      ]
     },
     "execution_count": 11,
     "metadata": {},
     "output_type": "execute_result"
    }
   ],
   "source": [
    "query_df.tail(5)"
   ]
  },
  {
   "cell_type": "markdown",
   "metadata": {},
   "source": [
    "### Checking whether we have any numbers in the product index"
   ]
  },
  {
   "cell_type": "code",
   "execution_count": 12,
   "metadata": {},
   "outputs": [
    {
     "data": {
      "text/plain": [
       "{False}"
      ]
     },
     "execution_count": 12,
     "metadata": {},
     "output_type": "execute_result"
    }
   ],
   "source": [
    "with open('doc_counts.json', 'r') as myfile:\n",
    "    data = myfile.read()\n",
    "words_counts_dict = json.loads(data)\n",
    "inv_idx_check = list(map(has_digits, list(words_counts.keys())))\n",
    "\n",
    "# removing any duplicates\n",
    "set(inv_idx_check)"
   ]
  },
  {
   "cell_type": "code",
   "execution_count": 13,
   "metadata": {},
   "outputs": [],
   "source": [
    "def query_match(search_query: list, words_counts: dict, threshold: int = 35):\n",
    "    \"\"\"\n",
    "    Get the searched query and try to match it against\n",
    "    the products inverted index.\n",
    "    If the match is above the threshold, \n",
    "    then return 1 else 0\n",
    "    Args:\n",
    "        search_query (list(string)): Searched query\n",
    "        terms_counts (dict): words count dictionary word -> count\n",
    "    Returns:\n",
    "        tuple: (matching_percentage, 1 or 0)\n",
    "    \"\"\"\n",
    "    match_count = 0\n",
    "    query_tokens = search_query.split(' ')\n",
    "    query_len = len(query_tokens)\n",
    "    for query_token in query_tokens:\n",
    "        if words_counts.get(query_token):\n",
    "            match_count += 1\n",
    "    match_percent = (match_count / query_len) * 100\n",
    "    if match_percent > threshold:\n",
    "        return match_percent, 1\n",
    "    else:\n",
    "        return match_percent, 0"
   ]
  },
  {
   "cell_type": "code",
   "execution_count": 14,
   "metadata": {},
   "outputs": [
    {
     "name": "stdout",
     "output_type": "stream",
     "text": [
      "Wall time: 0 ns\n"
     ]
    },
    {
     "name": "stderr",
     "output_type": "stream",
     "text": [
      "Progress: 100%|██████████| 26778/26778 [00:00<00:00, 341324.06it/s]\n"
     ]
    }
   ],
   "source": [
    "%time\n",
    "query_df['match_percent'], query_df['match_found'] = \\\n",
    "    zip(*query_df['clean_search_keyword'].progress_apply(\n",
    "        lambda x: query_match(x, words_counts=words_counts_dict)))"
   ]
  },
  {
   "cell_type": "code",
   "execution_count": 15,
   "metadata": {},
   "outputs": [],
   "source": [
    "def get_optimal_threshold(steps: int, words_counts: dict):\n",
    "    \"\"\"\n",
    "    Create a list of various experiments for visualizing\n",
    "     the matching percentage with the threshold\n",
    "\n",
    "    Args:\n",
    "        steps ([int]): steps that visualization with BE based on from 0 to 100\n",
    "    \"\"\"\n",
    "    temp_threshold = []\n",
    "    len_df = len(query_df)\n",
    "    for step_thresh in range(0, 100, steps):\n",
    "        query_df['match_percent'], query_df['match_found'] = \\\n",
    "            zip(*query_df['clean_search_keyword'].progress_apply(\n",
    "                lambda x: query_match(x, words_counts_dict, threshold=step_thresh)))\n",
    "        match_percentage = 100 * (len(query_df[query_df['match_found']==1]) / len_df)\n",
    "        temp_threshold.append([step_thresh, match_percentage])\n",
    "    return temp_threshold"
   ]
  },
  {
   "cell_type": "code",
   "execution_count": 16,
   "metadata": {},
   "outputs": [
    {
     "name": "stderr",
     "output_type": "stream",
     "text": [
      "Progress: 100%|██████████| 26778/26778 [00:00<00:00, 395752.91it/s]\n",
      "Progress: 100%|██████████| 26778/26778 [00:00<00:00, 333759.48it/s]\n",
      "Progress: 100%|██████████| 26778/26778 [00:00<00:00, 411506.99it/s]\n",
      "Progress: 100%|██████████| 26778/26778 [00:00<00:00, 414806.47it/s]\n",
      "Progress: 100%|██████████| 26778/26778 [00:00<00:00, 417289.26it/s]\n",
      "Progress: 100%|██████████| 26778/26778 [00:00<00:00, 429573.78it/s]\n",
      "Progress: 100%|██████████| 26778/26778 [00:00<00:00, 435272.38it/s]\n"
     ]
    },
    {
     "data": {
      "text/plain": [
       "((0, 15, 30, 45, 60),\n",
       " (64.41855254313242,\n",
       "  64.22436328329225,\n",
       "  59.67211890357756,\n",
       "  47.184255732317574,\n",
       "  30.61841810441407))"
      ]
     },
     "execution_count": 16,
     "metadata": {},
     "output_type": "execute_result"
    }
   ],
   "source": [
    "thresh = get_optimal_threshold(15, words_counts=words_counts_dict)\n",
    "labels, ys = zip(*thresh)\n",
    "labels[:5], ys[:5]"
   ]
  },
  {
   "cell_type": "code",
   "execution_count": 17,
   "metadata": {},
   "outputs": [
    {
     "name": "stdout",
     "output_type": "stream",
     "text": [
      "[[0, 64.41855254313242], [15, 64.22436328329225], [30, 59.67211890357756], [45, 47.184255732317574], [60, 30.61841810441407], [75, 15.281200985883936], [90, 12.536410486220031]]\n"
     ]
    },
    {
     "data": {
      "image/png": "[encoded data removed]",
      "text/plain": [
       "<Figure size 432x288 with 1 Axes>"
      ]
     },
     "metadata": {
      "needs_background": "light"
     },
     "output_type": "display_data"
    }
   ],
   "source": [
    "xs = np.arange(len(labels))\n",
    "plt.bar(xs, ys, width = 0.4,\n",
    "    color ='blue', align='center', alpha=0.5)\n",
    "plt.xlabel('Percent match b/w query and product index (%)')\n",
    "plt.ylabel('Exisitng percentage of zero hits (%)')\n",
    "# Replace default x-ticks with xs, then replace xs with labels\n",
    "plt.xticks(xs, labels)\n",
    "plt.yticks(ys)\n",
    "plt.grid(axis='y')\n",
    "plt.show \n",
    "print(thresh)"
   ]
  },
  {
   "cell_type": "markdown",
   "metadata": {},
   "source": [
    "### Inference\n",
    "The sample below shows that the search query `standbohrmaschine alzmetall ab3es` even after having \n",
    "a 33% match against the product index results in the zero hit.\n",
    "\n",
    "Conclusion from the graph above and the sample below:\n",
    "Search queries with 45 to 60% match against the product index should \n",
    "not have resulted in zero hit which is not the case from the graph above.\n",
    "\n",
    "\n",
    "The probable reason could be the normalization components of the SEBE. \n",
    "Because of this DSC team cannot opt for online A/B test as the performance of \n",
    "ml spellchecker will be influenced by various components of SEBE pipeline.\n",
    "\n",
    "\n",
    "Solution - The DSC team will conduct an offline A/B test by taking the output\n",
    "from ml spellchecker and output from correction phase of SEBE pipeline. "
   ]
  },
  {
   "cell_type": "code",
   "execution_count": 35,
   "metadata": {},
   "outputs": [
    {
     "data": {
      "text/plain": [
       "search_keyword            golf 4 microschalter\n",
       "total_custom_hit_count                       0\n",
       "total_product_count                          0\n",
       "clean_search_keyword      golf 4 microschalter\n",
       "match_percent                        66.666667\n",
       "match_found                                  0\n",
       "Name: 32163, dtype: object"
      ]
     },
     "execution_count": 35,
     "metadata": {},
     "output_type": "execute_result"
    }
   ],
   "source": [
    "test_sample_query = query_df[query_df['match_percent']>66].loc[32163]\n",
    "test_sample_query"
   ]
  },
  {
   "cell_type": "code",
   "execution_count": 36,
   "metadata": {},
   "outputs": [
    {
     "data": {
      "text/html": [
       "<div>\n",
       "<style scoped>\n",
       "    .dataframe tbody tr th:only-of-type {\n",
       "        vertical-align: middle;\n",
       "    }\n",
       "\n",
       "    .dataframe tbody tr th {\n",
       "        vertical-align: top;\n",
       "    }\n",
       "\n",
       "    .dataframe thead th {\n",
       "        text-align: right;\n",
       "    }\n",
       "</style>\n",
       "<table border=\"1\" class=\"dataframe\">\n",
       "  <thead>\n",
       "    <tr style=\"text-align: right;\">\n",
       "      <th></th>\n",
       "      <th>search_keyword</th>\n",
       "      <th>total_custom_hit_count</th>\n",
       "      <th>total_product_count</th>\n",
       "      <th>clean_search_keyword</th>\n",
       "      <th>match_percent</th>\n",
       "      <th>match_found</th>\n",
       "    </tr>\n",
       "  </thead>\n",
       "  <tbody>\n",
       "    <tr>\n",
       "      <th>32163</th>\n",
       "      <td>golf 4 microschalter</td>\n",
       "      <td>0</td>\n",
       "      <td>0</td>\n",
       "      <td>golf 4 microschalter</td>\n",
       "      <td>66.666667</td>\n",
       "      <td>0</td>\n",
       "    </tr>\n",
       "  </tbody>\n",
       "</table>\n",
       "</div>"
      ],
      "text/plain": [
       "             search_keyword  total_custom_hit_count  total_product_count  \\\n",
       "32163  golf 4 microschalter                       0                    0   \n",
       "\n",
       "       clean_search_keyword  match_percent  match_found  \n",
       "32163  golf 4 microschalter      66.666667            0  "
      ]
     },
     "execution_count": 36,
     "metadata": {},
     "output_type": "execute_result"
    }
   ],
   "source": [
    "query_df[query_df['clean_search_keyword'] == 'golf 4 microschalter']"
   ]
  },
  {
   "cell_type": "code",
   "execution_count": null,
   "metadata": {},
   "outputs": [],
   "source": []
  }
 ],
 "metadata": {
  "interpreter": {
   "hash": "b3ba2566441a7c06988d0923437866b63cedc61552a5af99d1f4fb67d367b25f"
  },
  "kernelspec": {
   "display_name": "Python 3.8.3 64-bit ('base': conda)",
   "language": "python",
   "name": "python3"
  },
  "language_info": {
   "codemirror_mode": {
    "name": "ipython",
    "version": 3
   },
   "file_extension": ".py",
   "mimetype": "text/x-python",
   "name": "python",
   "nbconvert_exporter": "python",
   "pygments_lexer": "ipython3",
   "version": "3.8.11"
  },
  "orig_nbformat": 4
 },
 "nbformat": 4,
 "nbformat_minor": 2
}
