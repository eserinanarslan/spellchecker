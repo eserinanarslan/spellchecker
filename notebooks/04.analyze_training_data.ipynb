{
 "cells": [
  {
   "cell_type": "markdown",
   "metadata": {},
   "source": [
    "# Analysis of the dictionary content used for training\n",
    "The dictionary file is formatted as follows:\n",
    "\n",
    "misspelled_word1, ..., misspelled_wordn = correct_word\n",
    "\n",
    "e.g.\n",
    "\n",
    "```memorie, momory, mermory, merory => memory```"
   ]
  },
  {
   "cell_type": "code",
   "execution_count": 1,
   "metadata": {},
   "outputs": [
    {
     "ename": "ModuleNotFoundError",
     "evalue": "No module named 'pytextdist'",
     "output_type": "error",
     "traceback": [
      "\u001b[0;31m---------------------------------------------------------------------------\u001b[0m",
      "\u001b[0;31mModuleNotFoundError\u001b[0m                       Traceback (most recent call last)",
      "Input \u001b[0;32mIn [1]\u001b[0m, in \u001b[0;36m<cell line: 10>\u001b[0;34m()\u001b[0m\n\u001b[1;32m      8\u001b[0m \u001b[38;5;28;01mimport\u001b[39;00m \u001b[38;5;21;01mnumpy\u001b[39;00m \u001b[38;5;28;01mas\u001b[39;00m \u001b[38;5;21;01mnp\u001b[39;00m\n\u001b[1;32m      9\u001b[0m \u001b[38;5;28;01mimport\u001b[39;00m \u001b[38;5;21;01mpandas\u001b[39;00m \u001b[38;5;28;01mas\u001b[39;00m \u001b[38;5;21;01mpd\u001b[39;00m\n\u001b[0;32m---> 10\u001b[0m \u001b[38;5;28;01mfrom\u001b[39;00m \u001b[38;5;21;01mpytextdist\u001b[39;00m\u001b[38;5;21;01m.\u001b[39;00m\u001b[38;5;21;01medit_distance\u001b[39;00m \u001b[38;5;28;01mimport\u001b[39;00m levenshtein_distance\n\u001b[1;32m     11\u001b[0m \u001b[38;5;28;01mfrom\u001b[39;00m \u001b[38;5;21;01mgoogle\u001b[39;00m\u001b[38;5;21;01m.\u001b[39;00m\u001b[38;5;21;01mcloud\u001b[39;00m \u001b[38;5;28;01mimport\u001b[39;00m bigquery\n\u001b[1;32m     13\u001b[0m \u001b[38;5;28;01mimport\u001b[39;00m \u001b[38;5;21;01mutils\u001b[39;00m\n",
      "\u001b[0;31mModuleNotFoundError\u001b[0m: No module named 'pytextdist'"
     ]
    }
   ],
   "source": [
    "import itertools\n",
    "from collections import Counter\n",
    "import statistics\n",
    "import sys\n",
    "import os\n",
    "sys.path.append(os.path.join('..','src'))\n",
    "\n",
    "import numpy as np\n",
    "import pandas as pd\n",
    "from pytextdist.edit_distance import levenshtein_distance\n",
    "from google.cloud import bigquery\n",
    "\n",
    "import utils\n",
    "import config\n",
    "from text_cleaner import TextCleaner\n",
    "\n",
    "%load_ext autoreload\n",
    "%autoreload 2"
   ]
  },
  {
   "cell_type": "code",
   "execution_count": 2,
   "metadata": {},
   "outputs": [],
   "source": [
    "client = bigquery.Client(project=config.GCP_PROJECT)\n",
    "textCleaner = TextCleaner()"
   ]
  },
  {
   "cell_type": "code",
   "execution_count": 3,
   "metadata": {},
   "outputs": [],
   "source": [
    "# Downloading the data from respected G bucket\n",
    "bucket_name_source = 'search-external-files-mr'\n",
    "cloud_file = 'corrections/de_corrections.txt'\n",
    "dest_file = 'de_corrections_mlsc.txt'\n",
    "processed_file = 'training_words_3to25_de_to_en_dup.txt'"
   ]
  },
  {
   "cell_type": "code",
   "execution_count": 4,
   "metadata": {},
   "outputs": [],
   "source": [
    "utils.download_raw_data(bucket_name_source,\n",
    "    cloud_file,\n",
    "    dest_file=dest_file,\n",
    "    project=config.GCP_PROJECT)\n",
    "with open(dest_file) as file_:  \n",
    "    content = [line.strip() for line in file_.readlines()]"
   ]
  },
  {
   "cell_type": "code",
   "execution_count": 5,
   "metadata": {},
   "outputs": [
    {
     "data": {
      "text/plain": [
       "['aadpter => adapter',\n",
       " 'aafi, anafri, nafi, anaffi, anfafi => anafi',\n",
       " 'aagitt, magitta => sagitta',\n",
       " 'aalysator, analyzator, anlysator, analysato, analisator, analizator, anaysator, anasylator => analysator',\n",
       " 'aandrijtas => aandrijfas']"
      ]
     },
     "execution_count": 5,
     "metadata": {},
     "output_type": "execute_result"
    }
   ],
   "source": [
    "content[:5]"
   ]
  },
  {
   "cell_type": "code",
   "execution_count": 6,
   "metadata": {},
   "outputs": [],
   "source": [
    "import str_utils\n",
    "\n",
    "def qa_generator(data_line):\n",
    "    \"\"\"\n",
    "    Filter out the data lines from the training dictionary to contain only \n",
    "    samples that are 3 edit distances away from each other\n",
    "    Args:\n",
    "        data_line (str): raw data single line from training dictionary\n",
    "    \"\"\"\n",
    "    QandA_pair=list()\n",
    "    questions, answers = data_line.split(\" => \")\n",
    "    question_elements = [question.strip() for question in questions.split(',')]\n",
    "\n",
    "    replacement_dict = {'Ã¼': 'ue', 'Ã¤': 'ae', 'Ã¶': 'oe', 'ÃŸ': 'ss'}\n",
    "    answers = str_utils.replace_special_chars(answers, replacement_dict)\n",
    "\n",
    "    for q_elements in question_elements:\n",
    "        q_elements = str_utils.replace_special_chars(q_elements, replacement_dict)\n",
    "        edit_distance = levenshtein_distance(q_elements,answers)\n",
    "        qa_edit_distance = (q_elements, answers, edit_distance)\n",
    "        QandA_pair.append(qa_edit_distance)\n",
    "    return QandA_pair"
   ]
  },
  {
   "cell_type": "code",
   "execution_count": 7,
   "metadata": {},
   "outputs": [
    {
     "name": "stdout",
     "output_type": "stream",
     "text": [
      "CPU times: user 3 µs, sys: 1e+03 ns, total: 4 µs\n",
      "Wall time: 7.15 µs\n"
     ]
    },
    {
     "data": {
      "text/plain": [
       "78555"
      ]
     },
     "execution_count": 7,
     "metadata": {},
     "output_type": "execute_result"
    }
   ],
   "source": [
    "# Map the generated distances with de-correction.txt - pairs of wrong and right word with the distance\n",
    "%time\n",
    "qa_pairs_ed = list(map(qa_generator, content))\n",
    "len(qa_pairs_ed)"
   ]
  },
  {
   "cell_type": "code",
   "execution_count": 8,
   "metadata": {},
   "outputs": [
    {
     "data": {
      "text/plain": [
       "[[('aadpter', 'adapter', 2)],\n",
       " [('aafi', 'anafi', 1),\n",
       "  ('anafri', 'anafi', 1),\n",
       "  ('nafi', 'anafi', 1),\n",
       "  ('anaffi', 'anafi', 1),\n",
       "  ('anfafi', 'anafi', 1)],\n",
       " [('aagitt', 'sagitta', 2), ('magitta', 'sagitta', 1)]]"
      ]
     },
     "execution_count": 8,
     "metadata": {},
     "output_type": "execute_result"
    }
   ],
   "source": [
    "qa_pairs_ed[:3]"
   ]
  },
  {
   "cell_type": "code",
   "execution_count": 9,
   "metadata": {},
   "outputs": [],
   "source": [
    "# Flattening the whole list to a list of tuples\n",
    "qa_pairs_ed = list(itertools.chain.from_iterable(qa_pairs_ed))\n",
    "# extract the ech element at position_x in the tuples within dedicated list\n",
    "misspelled_terms, correct_terms, ed_values = zip(*qa_pairs_ed)"
   ]
  },
  {
   "cell_type": "code",
   "execution_count": 10,
   "metadata": {},
   "outputs": [
    {
     "name": "stdout",
     "output_type": "stream",
     "text": [
      "Number of terms existing in correct words and misspelled words: 1933 (0.61%)\n"
     ]
    },
    {
     "data": {
      "text/plain": [
       "['digitaliser',\n",
       " 'saugpumpe',\n",
       " 'schrump',\n",
       " 'erdleitung',\n",
       " 'emstb',\n",
       " 'schrumpfschlau',\n",
       " 'fritt',\n",
       " 'shrimp',\n",
       " 'alutsprecher',\n",
       " 'klinckenstecker']"
      ]
     },
     "execution_count": 10,
     "metadata": {},
     "output_type": "execute_result"
    }
   ],
   "source": [
    "repeated_terms = set(misspelled_terms).intersection(correct_terms)\n",
    "nb_repeated = len(repeated_terms)\n",
    "print(f\"Number of terms existing in correct words and misspelled words:\\\n",
    " {nb_repeated} ({round(100 * nb_repeated/len(correct_terms), 2)}%)\")\n",
    "list(repeated_terms)[:10]"
   ]
  },
  {
   "cell_type": "markdown",
   "metadata": {},
   "source": [
    "# Average length of words in the German dictionary"
   ]
  },
  {
   "cell_type": "markdown",
   "metadata": {},
   "source": [
    "## Average length of the correct words"
   ]
  },
  {
   "cell_type": "code",
   "execution_count": 11,
   "metadata": {},
   "outputs": [
    {
     "data": {
      "text/plain": [
       "10.34"
      ]
     },
     "execution_count": 11,
     "metadata": {},
     "output_type": "execute_result"
    }
   ],
   "source": [
    "total_avg = round(sum( map(len, correct_terms) ) / len(correct_terms), 2)\n",
    "total_avg"
   ]
  },
  {
   "cell_type": "markdown",
   "metadata": {},
   "source": [
    "## Median length of the misspelled words"
   ]
  },
  {
   "cell_type": "code",
   "execution_count": 12,
   "metadata": {},
   "outputs": [
    {
     "data": {
      "text/plain": [
       "10"
      ]
     },
     "execution_count": 12,
     "metadata": {},
     "output_type": "execute_result"
    }
   ],
   "source": [
    "median_len = statistics.median(map(len, misspelled_terms))\n",
    "median_len"
   ]
  },
  {
   "cell_type": "code",
   "execution_count": 13,
   "metadata": {},
   "outputs": [
    {
     "data": {
      "text/plain": [
       "[(1, 52.602),\n",
       " (2, 37.367),\n",
       " (3, 7.37),\n",
       " (4, 2.159),\n",
       " (5, 0.369),\n",
       " (6, 0.082),\n",
       " (0, 0.033),\n",
       " (7, 0.011),\n",
       " (8, 0.002),\n",
       " (9, 0.002),\n",
       " (10, 0.001),\n",
       " (13, 0.001),\n",
       " (18, 0.001),\n",
       " (12, 0.0),\n",
       " (14, 0.0),\n",
       " (17, 0.0)]"
      ]
     },
     "execution_count": 13,
     "metadata": {},
     "output_type": "execute_result"
    }
   ],
   "source": [
    "counts_per_edvalue = Counter(ed_values)\n",
    "nb_words = len(ed_values)\n",
    "ls = [(edistance, round(counts_per_edvalue[edistance] / nb_words * 100.0, 3)) \n",
    "    for edistance, count in counts_per_edvalue.most_common()\n",
    "]\n",
    "counts_per_edvalue = sorted(ls, key=lambda t:t[1], reverse=True)\n",
    "counts_per_edvalue"
   ]
  },
  {
   "cell_type": "markdown",
   "metadata": {},
   "source": [
    "# Distribution of edit distance in DE correction.txt"
   ]
  },
  {
   "cell_type": "code",
   "execution_count": 14,
   "metadata": {},
   "outputs": [
    {
     "data": {
      "text/plain": [
       "Text(0, 0.5, '% words in dictionary')"
      ]
     },
     "execution_count": 14,
     "metadata": {},
     "output_type": "execute_result"
    },
    {
     "data": {
      "image/png": "[encoded data removed]",
      "text/plain": [
       "<Figure size 432x288 with 1 Axes>"
      ]
     },
     "metadata": {
      "needs_background": "light"
     },
     "output_type": "display_data"
    }
   ],
   "source": [
    "# counts_per_edvalue = Counter(ed_values)\n",
    "df = pd.DataFrame.from_dict(dict(counts_per_edvalue), orient='index')\n",
    "ax = df.plot(kind='bar', figsize=(6, 4), stacked=True, width=0.8, legend=None)\n",
    "ax.set_xlim(1, 7)\n",
    "ax.set_xlabel('Edit distance')\n",
    "ax.yaxis.grid()\n",
    "ax.set_ylabel('% words in dictionary')"
   ]
  },
  {
   "cell_type": "code",
   "execution_count": 15,
   "metadata": {},
   "outputs": [
    {
     "data": {
      "text/html": [
       "<div>\n",
       "<style scoped>\n",
       "    .dataframe tbody tr th:only-of-type {\n",
       "        vertical-align: middle;\n",
       "    }\n",
       "\n",
       "    .dataframe tbody tr th {\n",
       "        vertical-align: top;\n",
       "    }\n",
       "\n",
       "    .dataframe thead th {\n",
       "        text-align: right;\n",
       "    }\n",
       "</style>\n",
       "<table border=\"1\" class=\"dataframe\">\n",
       "  <thead>\n",
       "    <tr style=\"text-align: right;\">\n",
       "      <th></th>\n",
       "      <th>count</th>\n",
       "      <th>mean</th>\n",
       "      <th>std</th>\n",
       "      <th>min</th>\n",
       "      <th>25%</th>\n",
       "      <th>50%</th>\n",
       "      <th>75%</th>\n",
       "      <th>max</th>\n",
       "    </tr>\n",
       "  </thead>\n",
       "  <tbody>\n",
       "    <tr>\n",
       "      <th>0</th>\n",
       "      <td>316965.0</td>\n",
       "      <td>1.605663</td>\n",
       "      <td>0.76607</td>\n",
       "      <td>0.0</td>\n",
       "      <td>1.0</td>\n",
       "      <td>1.0</td>\n",
       "      <td>2.0</td>\n",
       "      <td>18.0</td>\n",
       "    </tr>\n",
       "  </tbody>\n",
       "</table>\n",
       "</div>"
      ],
      "text/plain": [
       "      count      mean      std  min  25%  50%  75%   max\n",
       "0  316965.0  1.605663  0.76607  0.0  1.0  1.0  2.0  18.0"
      ]
     },
     "execution_count": 15,
     "metadata": {},
     "output_type": "execute_result"
    }
   ],
   "source": [
    "# General info about the dataframe\n",
    "df_describe = pd.DataFrame(np.array(ed_values))\n",
    "df_describe.describe().T"
   ]
  },
  {
   "cell_type": "code",
   "execution_count": null,
   "metadata": {},
   "outputs": [],
   "source": []
  }
 ],
 "metadata": {
  "interpreter": {
   "hash": "b3ba2566441a7c06988d0923437866b63cedc61552a5af99d1f4fb67d367b25f"
  },
  "kernelspec": {
   "display_name": "Python 3 (ipykernel)",
   "language": "python",
   "name": "python3"
  },
  "language_info": {
   "codemirror_mode": {
    "name": "ipython",
    "version": 3
   },
   "file_extension": ".py",
   "mimetype": "text/x-python",
   "name": "python",
   "nbconvert_exporter": "python",
   "pygments_lexer": "ipython3",
   "version": "3.9.12"
  }
 },
 "nbformat": 4,
 "nbformat_minor": 4
}
