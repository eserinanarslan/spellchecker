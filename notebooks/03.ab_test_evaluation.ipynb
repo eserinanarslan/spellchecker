{
 "cells": [
  {
   "cell_type": "markdown",
   "metadata": {},
   "source": [
    "# Offline model evaluation and comparison to the current SEBE spellchecker solution"
   ]
  },
  {
   "cell_type": "code",
   "execution_count": 2,
   "metadata": {},
   "outputs": [],
   "source": [
    "# ! pip install BeautifulSoup\n",
    "# !cd .. && conda env update --name spellchecker --file environment.yml --prune"
   ]
  },
  {
   "cell_type": "code",
   "execution_count": 18,
   "metadata": {},
   "outputs": [],
   "source": [
    "import getpass\n",
    "import sys\n",
    "import os\n",
    "sys.path.append(os.path.join('..','src'))\n",
    "\n",
    "import pandas as pd\n",
    "import numpy as np\n",
    "from google.cloud import bigquery\n",
    "\n",
    "import config\n",
    "import utils\n",
    "import data_utils\n",
    "import evaluation\n",
    "from text_cleaner import TextCleaner\n",
    "\n",
    "%load_ext autoreload\n",
    "%autoreload 2\n",
    "pd.set_option('display.max_colwidth', 1000)"
   ]
  },
  {
   "cell_type": "code",
   "execution_count": 19,
   "metadata": {},
   "outputs": [],
   "source": [
    "client = bigquery.Client(project=config.SEBE_GCP_PROJECT)\n",
    "textCleaner = TextCleaner()"
   ]
  },
  {
   "cell_type": "code",
   "execution_count": 20,
   "metadata": {},
   "outputs": [],
   "source": [
    "# Test data params\n",
    "NB_TEST_SAMPLES = 500\n",
    "TRACKING_DATA_DAY = '20220321' \n",
    "\n",
    "# Model arguments\n",
    "USER_NAME = '' # Provide the User Name who trained the model\n",
    "MODEL_TRAIN_DATE = '1653655366'\n",
    "ARC_VERSION = 'BILSTM'\n",
    "\n",
    "# Product index arguments\n",
    "PROD_INDEX_DATE = '1653655311'\n",
    "PROD_INDEX_EXT = '202204'"
   ]
  },
  {
   "cell_type": "markdown",
   "metadata": {},
   "source": [
    "### Download model and product index"
   ]
  },
  {
   "cell_type": "code",
   "execution_count": null,
   "metadata": {},
   "outputs": [],
   "source": [
    "evaluation.pass_version(USER_NAME, MODEL_TRAIN_DATE, ARC_VERSION)\n",
    "\n",
    "prefix = os.path.join(USER_NAME, config.PROD_INDEX_DIR, PROD_INDEX_DATE,\n",
    "                      config.PROCESSED_PROD_INDEX_FILE)\n",
    "pre_process_path = os.path.join(config.ARTIFACTS_DIR, prefix)\n",
    "\n",
    "utils.download_from_bucket(bucket_name=config.DSC_BUCKET, prefix=prefix,\n",
    "    dest_folder=config.ARTIFACTS_DIR, project=config.DSC_GCP_PROJECT)"
   ]
  },
  {
   "cell_type": "markdown",
   "metadata": {},
   "source": [
    "### Load the inverted index data"
   ]
  },
  {
   "cell_type": "code",
   "execution_count": 28,
   "metadata": {},
   "outputs": [
    {
     "data": {
      "text/plain": [
       "['universalrahmen',\n",
       " 'aufbau',\n",
       " 'tischladestation',\n",
       " 'elastikreifen',\n",
       " 'children',\n",
       " 'laufkugel',\n",
       " 'geldscheinpruefstift',\n",
       " 'schallged',\n",
       " 'avant',\n",
       " 'schallgeber']"
      ]
     },
     "execution_count": 28,
     "metadata": {},
     "output_type": "execute_result"
    }
   ],
   "source": [
    "words = utils.load_from_json(os.path.join(pre_process_path))\n",
    "inv_index_keys = words.keys()\n",
    "list(inv_index_keys)[:10]"
   ]
  },
  {
   "cell_type": "markdown",
   "metadata": {},
   "source": [
    "### Extracting tracking data for a particular day on the serach result page"
   ]
  },
  {
   "cell_type": "code",
   "execution_count": 21,
   "metadata": {},
   "outputs": [
    {
     "data": {
      "text/html": [
       "<div>\n",
       "<style scoped>\n",
       "    .dataframe tbody tr th:only-of-type {\n",
       "        vertical-align: middle;\n",
       "    }\n",
       "\n",
       "    .dataframe tbody tr th {\n",
       "        vertical-align: top;\n",
       "    }\n",
       "\n",
       "    .dataframe thead th {\n",
       "        text-align: right;\n",
       "    }\n",
       "</style>\n",
       "<table border=\"1\" class=\"dataframe\">\n",
       "  <thead>\n",
       "    <tr style=\"text-align: right;\">\n",
       "      <th></th>\n",
       "      <th>prod_desc_ger</th>\n",
       "      <th>prod_desc_eng</th>\n",
       "      <th>search_keyword</th>\n",
       "    </tr>\n",
       "  </thead>\n",
       "  <tbody>\n",
       "    <tr>\n",
       "      <th>495</th>\n",
       "      <td>LAVOR SCL Quick 36B Bodenreinigungsmasch</td>\n",
       "      <td>Lavor 8.518.0003 1 pc(s)</td>\n",
       "      <td>1586744</td>\n",
       "    </tr>\n",
       "    <tr>\n",
       "      <th>496</th>\n",
       "      <td>SCHALTBARE STECKDOSE IP44</td>\n",
       "      <td>Sygonix SY-4673756 In-line socket with s</td>\n",
       "      <td>schaltbare steckdose</td>\n",
       "    </tr>\n",
       "    <tr>\n",
       "      <th>497</th>\n",
       "      <td>Apple MacBook Pro 13 M1/8C/8C/8GB/256/Sp</td>\n",
       "      <td>Apple MacBook Pro 13 MacBook 12 33.8 cm</td>\n",
       "      <td>laptop 15 6 zoll</td>\n",
       "    </tr>\n",
       "    <tr>\n",
       "      <th>498</th>\n",
       "      <td>7\" Touchscreen, IPS, 1024x600, HDMI, VGA</td>\n",
       "      <td>Joy-it LCD-7-3 LCD 1 pc(s)</td>\n",
       "      <td>joy-it display</td>\n",
       "    </tr>\n",
       "    <tr>\n",
       "      <th>499</th>\n",
       "      <td>BROTHER BAND TZE-S231 12MM WEISS/SCHWAR</td>\n",
       "      <td>Brother tape TZE-S231 12mm wit/zwart</td>\n",
       "      <td>schriftband brother</td>\n",
       "    </tr>\n",
       "  </tbody>\n",
       "</table>\n",
       "</div>"
      ],
      "text/plain": [
       "                                prod_desc_ger  \\\n",
       "495  LAVOR SCL Quick 36B Bodenreinigungsmasch   \n",
       "496                 SCHALTBARE STECKDOSE IP44   \n",
       "497  Apple MacBook Pro 13 M1/8C/8C/8GB/256/Sp   \n",
       "498  7\" Touchscreen, IPS, 1024x600, HDMI, VGA   \n",
       "499   BROTHER BAND TZE-S231 12MM WEISS/SCHWAR   \n",
       "\n",
       "                                prod_desc_eng        search_keyword  \n",
       "495                  Lavor 8.518.0003 1 pc(s)               1586744  \n",
       "496  Sygonix SY-4673756 In-line socket with s  schaltbare steckdose  \n",
       "497   Apple MacBook Pro 13 MacBook 12 33.8 cm      laptop 15 6 zoll  \n",
       "498                Joy-it LCD-7-3 LCD 1 pc(s)        joy-it display  \n",
       "499      Brother tape TZE-S231 12mm wit/zwart   schriftband brother  "
      ]
     },
     "execution_count": 21,
     "metadata": {},
     "output_type": "execute_result"
    }
   ],
   "source": [
    "actual_data = data_utils.get_search_queries_at(\n",
    "    client, TRACKING_DATA_DAY, NB_TEST_SAMPLES)\n",
    "actual_data.tail(5)"
   ]
  },
  {
   "cell_type": "markdown",
   "metadata": {},
   "source": [
    "Note: If the token's length is less than 4 characters, then no need to correct with the spellchecker\n",
    "Reasons: It is very difficult to correct words shorter than 4 chars also SEBE will be only sending us words longer than 4 chars"
   ]
  },
  {
   "cell_type": "code",
   "execution_count": null,
   "metadata": {},
   "outputs": [],
   "source": [
    "to_correct = 'playstation'\n",
    "res = data_utils.qualify_search_keyword(to_correct, inv_index_keys)\n",
    "assert len(res) == 1\n",
    "assert res[0][0] == to_correct\n",
    "# assert editdistance(res[0][1], res[0][0]) == 3\n",
    "res"
   ]
  },
  {
   "cell_type": "code",
   "execution_count": 12,
   "metadata": {},
   "outputs": [
    {
     "data": {
      "text/html": [
       "<div>\n",
       "<style scoped>\n",
       "    .dataframe tbody tr th:only-of-type {\n",
       "        vertical-align: middle;\n",
       "    }\n",
       "\n",
       "    .dataframe tbody tr th {\n",
       "        vertical-align: top;\n",
       "    }\n",
       "\n",
       "    .dataframe thead th {\n",
       "        text-align: right;\n",
       "    }\n",
       "</style>\n",
       "<table border=\"1\" class=\"dataframe\">\n",
       "  <thead>\n",
       "    <tr style=\"text-align: right;\">\n",
       "      <th></th>\n",
       "      <th>nlp_search_keyword</th>\n",
       "      <th>test_tuples</th>\n",
       "    </tr>\n",
       "  </thead>\n",
       "  <tbody>\n",
       "    <tr>\n",
       "      <th>491</th>\n",
       "      <td>phoenix contact trio ps 2g 1ac 24dc 3 c2</td>\n",
       "      <td>[(phoenix, hoenix, 1, 1), (contact, contat, 1, 1), (trio, 0, 0, 0), (ps, 0, 0, 0), (2g, 0, 0, 0), (1ac, 0, 0, 0), (24dc, 0, 0, 0), (3, 0, 0, 0), (c2, 0, 0, 0)]</td>\n",
       "    </tr>\n",
       "    <tr>\n",
       "      <th>492</th>\n",
       "      <td>fritzbox 6590</td>\n",
       "      <td>[(fritzbox, fritgbox, 2, 1), (6590, 0, 0, 0)]</td>\n",
       "    </tr>\n",
       "    <tr>\n",
       "      <th>496</th>\n",
       "      <td></td>\n",
       "      <td>[]</td>\n",
       "    </tr>\n",
       "    <tr>\n",
       "      <th>497</th>\n",
       "      <td>mini mikrofon</td>\n",
       "      <td>[(mini, 0, 0, 0), (mikrofon, mikofokn, 2, 1)]</td>\n",
       "    </tr>\n",
       "    <tr>\n",
       "      <th>498</th>\n",
       "      <td>varta micro aaa power akku</td>\n",
       "      <td>[(varta, vagrta, 1, 1), (micro, mictro, 1, 1), (aaa, 0, 0, 0), (power, öower, 1, 1), (akku, 0, 0, 0)]</td>\n",
       "    </tr>\n",
       "  </tbody>\n",
       "</table>\n",
       "</div>"
      ],
      "text/plain": [
       "                           nlp_search_keyword  \\\n",
       "491  phoenix contact trio ps 2g 1ac 24dc 3 c2   \n",
       "492                             fritzbox 6590   \n",
       "496                                             \n",
       "497                             mini mikrofon   \n",
       "498                varta micro aaa power akku   \n",
       "\n",
       "                                                                                                                                                         test_tuples  \n",
       "491  [(phoenix, hoenix, 1, 1), (contact, contat, 1, 1), (trio, 0, 0, 0), (ps, 0, 0, 0), (2g, 0, 0, 0), (1ac, 0, 0, 0), (24dc, 0, 0, 0), (3, 0, 0, 0), (c2, 0, 0, 0)]  \n",
       "492                                                                                                                    [(fritzbox, fritgbox, 2, 1), (6590, 0, 0, 0)]  \n",
       "496                                                                                                                                                               []  \n",
       "497                                                                                                                    [(mini, 0, 0, 0), (mikrofon, mikofokn, 2, 1)]  \n",
       "498                                                            [(varta, vagrta, 1, 1), (micro, mictro, 1, 1), (aaa, 0, 0, 0), (power, öower, 1, 1), (akku, 0, 0, 0)]  "
      ]
     },
     "execution_count": 12,
     "metadata": {},
     "output_type": "execute_result"
    }
   ],
   "source": [
    "test_data = actual_data.copy()\n",
    "test_data['nlp_search_keyword'] = test_data['search_keyword'].apply(lambda x: textCleaner.clean(x))\n",
    "test_data['test_tuples'] = test_data['nlp_search_keyword'].apply(\n",
    "    lambda x: data_utils.qualify_search_keyword(x, inv_index_keys))\n",
    "test_data.drop(['prod_desc_ger', 'prod_desc_eng', 'search_keyword'], axis=1, inplace=True)\n",
    "test_data.replace(to_replace='None', value=np.nan, inplace=True)\n",
    "test_data.dropna(inplace=True)\n",
    "test_data.tail()\n",
    "# correct word, misspelled, edit distance, flag=1|0(1: correct it)\n",
    "# e.g. [(widerstaende, wuderstsene, 3, 1)"
   ]
  },
  {
   "cell_type": "code",
   "execution_count": 13,
   "metadata": {},
   "outputs": [
    {
     "data": {
      "text/plain": [
       "(354, 2)"
      ]
     },
     "execution_count": 13,
     "metadata": {},
     "output_type": "execute_result"
    }
   ],
   "source": [
    "test_data.shape"
   ]
  },
  {
   "cell_type": "code",
   "execution_count": 14,
   "metadata": {},
   "outputs": [
    {
     "name": "stdout",
     "output_type": "stream",
     "text": [
      "nlp_search_keyword                                                               samsung galaxy tab s7\n",
      "test_tuples           [(samsung, samsong, 1, 1), (galaxy, galax, 1, 1), (tab, 0, 0, 0), (s7, 0, 0, 0)]\n",
      "Name: 1, dtype: object\n"
     ]
    }
   ],
   "source": [
    "print(test_data.iloc[1])"
   ]
  },
  {
   "cell_type": "markdown",
   "metadata": {},
   "source": [
    "# Performing the evaluation\n",
    "## Note: set the API Key variable"
   ]
  },
  {
   "cell_type": "code",
   "execution_count": 15,
   "metadata": {},
   "outputs": [],
   "source": [
    "API_KEY=''"
   ]
  },
  {
   "cell_type": "code",
   "execution_count": 16,
   "metadata": {},
   "outputs": [],
   "source": [
    "assert API_KEY != ''"
   ]
  },
  {
   "cell_type": "code",
   "execution_count": 17,
   "metadata": {},
   "outputs": [],
   "source": [
    "API_ENDPOINT = \\\n",
    "    'https://conrad-nonprod-gcp-cloud.apigee.net/search/1/v3/search/de/de/b2b?apikey={}'.format(API_KEY)"
   ]
  },
  {
   "cell_type": "code",
   "execution_count": 18,
   "metadata": {},
   "outputs": [
    {
     "data": {
      "text/plain": [
       "nlp_search_keyword                                                               samsung galaxy tab s7\n",
       "test_tuples           [(samsung, samsong, 1, 1), (galaxy, galax, 1, 1), (tab, 0, 0, 0), (s7, 0, 0, 0)]\n",
       "Name: 1, dtype: object"
      ]
     },
     "execution_count": 18,
     "metadata": {},
     "output_type": "execute_result"
    }
   ],
   "source": [
    "spellcheckers_outputs = test_data.copy()\n",
    "spellcheckers_outputs.iloc[1]"
   ]
  },
  {
   "cell_type": "markdown",
   "metadata": {},
   "source": [
    "## Apply ML spellchecker corrections"
   ]
  },
  {
   "cell_type": "code",
   "execution_count": 19,
   "metadata": {},
   "outputs": [
    {
     "name": "stdout",
     "output_type": "stream",
     "text": [
      "Wall time: 0 ns\n"
     ]
    },
    {
     "data": {
      "text/html": [
       "<div>\n",
       "<style scoped>\n",
       "    .dataframe tbody tr th:only-of-type {\n",
       "        vertical-align: middle;\n",
       "    }\n",
       "\n",
       "    .dataframe tbody tr th {\n",
       "        vertical-align: top;\n",
       "    }\n",
       "\n",
       "    .dataframe thead th {\n",
       "        text-align: right;\n",
       "    }\n",
       "</style>\n",
       "<table border=\"1\" class=\"dataframe\">\n",
       "  <thead>\n",
       "    <tr style=\"text-align: right;\">\n",
       "      <th></th>\n",
       "      <th>nlp_search_keyword</th>\n",
       "      <th>test_tuples</th>\n",
       "      <th>ml_sp</th>\n",
       "    </tr>\n",
       "  </thead>\n",
       "  <tbody>\n",
       "    <tr>\n",
       "      <th>0</th>\n",
       "      <td>modellbau flugzeuge</td>\n",
       "      <td>[(modellbau, omdellbau, 2, 1), (flugzeuge, 0, 0, 0)]</td>\n",
       "      <td>[{'actual': 'modellbau', 'noisy': 'omdellbau', 'edit_dist': 2, 'ml_predicted': 'modellbau'}]</td>\n",
       "    </tr>\n",
       "    <tr>\n",
       "      <th>1</th>\n",
       "      <td>samsung galaxy tab s7</td>\n",
       "      <td>[(samsung, samsong, 1, 1), (galaxy, galax, 1, 1), (tab, 0, 0, 0), (s7, 0, 0, 0)]</td>\n",
       "      <td>[{'actual': 'samsung', 'noisy': 'samsong', 'edit_dist': 1, 'ml_predicted': 'samsung'}, {'actual': 'galaxy', 'noisy': 'galax', 'edit_dist': 1, 'ml_predicted': 'galax'}]</td>\n",
       "    </tr>\n",
       "    <tr>\n",
       "      <th>2</th>\n",
       "      <td>ethernet switch</td>\n",
       "      <td>[(ethernet, fethekrnet, 2, 1), (switch, witch, 1, 1)]</td>\n",
       "      <td>[{'actual': 'ethernet', 'noisy': 'fethekrnet', 'edit_dist': 2, 'ml_predicted': 'wettercenter'}, {'actual': 'switch', 'noisy': 'witch', 'edit_dist': 1, 'ml_predicted': 'witch'}]</td>\n",
       "    </tr>\n",
       "    <tr>\n",
       "      <th>3</th>\n",
       "      <td>modul 2 berker</td>\n",
       "      <td>[(modul, moul, 1, 1), (2, 0, 0, 0), (berker, mberker, 1, 1)]</td>\n",
       "      <td>[{'actual': 'modul', 'noisy': 'moul', 'edit_dist': 1, 'ml_predicted': 'mul'}, {'actual': 'berker', 'noisy': 'mberker', 'edit_dist': 1, 'ml_predicted': 'berker'}]</td>\n",
       "    </tr>\n",
       "    <tr>\n",
       "      <th>4</th>\n",
       "      <td>logitech webcam</td>\n",
       "      <td>[(logitech, loigtech, 2, 1), (webcam, webcav, 1, 1)]</td>\n",
       "      <td>[{'actual': 'logitech', 'noisy': 'loigtech', 'edit_dist': 2, 'ml_predicted': 'logitech'}, {'actual': 'webcam', 'noisy': 'webcav', 'edit_dist': 1, 'ml_predicted': 'webcam'}]</td>\n",
       "    </tr>\n",
       "  </tbody>\n",
       "</table>\n",
       "</div>"
      ],
      "text/plain": [
       "      nlp_search_keyword  \\\n",
       "0    modellbau flugzeuge   \n",
       "1  samsung galaxy tab s7   \n",
       "2        ethernet switch   \n",
       "3         modul 2 berker   \n",
       "4        logitech webcam   \n",
       "\n",
       "                                                                        test_tuples  \\\n",
       "0                              [(modellbau, omdellbau, 2, 1), (flugzeuge, 0, 0, 0)]   \n",
       "1  [(samsung, samsong, 1, 1), (galaxy, galax, 1, 1), (tab, 0, 0, 0), (s7, 0, 0, 0)]   \n",
       "2                             [(ethernet, fethekrnet, 2, 1), (switch, witch, 1, 1)]   \n",
       "3                      [(modul, moul, 1, 1), (2, 0, 0, 0), (berker, mberker, 1, 1)]   \n",
       "4                              [(logitech, loigtech, 2, 1), (webcam, webcav, 1, 1)]   \n",
       "\n",
       "                                                                                                                                                                              ml_sp  \n",
       "0                                                                                      [{'actual': 'modellbau', 'noisy': 'omdellbau', 'edit_dist': 2, 'ml_predicted': 'modellbau'}]  \n",
       "1           [{'actual': 'samsung', 'noisy': 'samsong', 'edit_dist': 1, 'ml_predicted': 'samsung'}, {'actual': 'galaxy', 'noisy': 'galax', 'edit_dist': 1, 'ml_predicted': 'galax'}]  \n",
       "2  [{'actual': 'ethernet', 'noisy': 'fethekrnet', 'edit_dist': 2, 'ml_predicted': 'wettercenter'}, {'actual': 'switch', 'noisy': 'witch', 'edit_dist': 1, 'ml_predicted': 'witch'}]  \n",
       "3                 [{'actual': 'modul', 'noisy': 'moul', 'edit_dist': 1, 'ml_predicted': 'mul'}, {'actual': 'berker', 'noisy': 'mberker', 'edit_dist': 1, 'ml_predicted': 'berker'}]  \n",
       "4      [{'actual': 'logitech', 'noisy': 'loigtech', 'edit_dist': 2, 'ml_predicted': 'logitech'}, {'actual': 'webcam', 'noisy': 'webcav', 'edit_dist': 1, 'ml_predicted': 'webcam'}]  "
      ]
     },
     "execution_count": 19,
     "metadata": {},
     "output_type": "execute_result"
    }
   ],
   "source": [
    "%time\n",
    "spellcheckers_outputs['ml_sp'] = spellcheckers_outputs['test_tuples'].apply(\n",
    "    lambda x: evaluation.ml_spellchecker(x))\n",
    "spellcheckers_outputs.head()"
   ]
  },
  {
   "cell_type": "markdown",
   "metadata": {},
   "source": [
    "## Apply Search Backend misspelling corrections"
   ]
  },
  {
   "cell_type": "code",
   "execution_count": 20,
   "metadata": {},
   "outputs": [
    {
     "name": "stdout",
     "output_type": "stream",
     "text": [
      "Wall time: 0 ns\n"
     ]
    },
    {
     "data": {
      "text/plain": [
       "0                                                                                    [{'actual': 'modellbau', 'noisy': 'omdellbau', 'edit_dist': 2, 'be_predicted': 'modellbau'}]\n",
       "1          [{'actual': 'samsung', 'noisy': 'samsong', 'edit_dist': 1, 'be_predicted': 'samsung'}, {'actual': 'galaxy', 'noisy': 'galax', 'edit_dist': 1, 'be_predicted': 'None'}]\n",
       "2         [{'actual': 'ethernet', 'noisy': 'fethekrnet', 'edit_dist': 2, 'be_predicted': 'None'}, {'actual': 'switch', 'noisy': 'witch', 'edit_dist': 1, 'be_predicted': 'None'}]\n",
       "3             [{'actual': 'modul', 'noisy': 'moul', 'edit_dist': 1, 'be_predicted': 'modul'}, {'actual': 'berker', 'noisy': 'mberker', 'edit_dist': 1, 'be_predicted': 'berker'}]\n",
       "4    [{'actual': 'logitech', 'noisy': 'loigtech', 'edit_dist': 2, 'be_predicted': 'logitech'}, {'actual': 'webcam', 'noisy': 'webcav', 'edit_dist': 1, 'be_predicted': 'webdav'}]\n",
       "Name: be_sp, dtype: object"
      ]
     },
     "execution_count": 20,
     "metadata": {},
     "output_type": "execute_result"
    }
   ],
   "source": [
    "%time\n",
    "spellcheckers_outputs['be_sp'] = spellcheckers_outputs['test_tuples'].apply(\n",
    "    lambda x: evaluation.be_spellchecker(x, API_ENDPOINT))\n",
    "spellcheckers_outputs['be_sp'].head()"
   ]
  },
  {
   "cell_type": "code",
   "execution_count": 21,
   "metadata": {},
   "outputs": [],
   "source": [
    "ml_vs_be = spellcheckers_outputs[['ml_sp', 'be_sp']]\n",
    "ml_vs_be = ml_vs_be.apply(lambda x: x.explode() if x.name in ['ml_sp', 'be_sp'] else x)\n",
    "ml_vs_be = ml_vs_be.dropna()\n",
    "ml_vs_be = ml_vs_be.reset_index(drop=True)\n",
    "ml_vs_be = pd.concat([ml_vs_be[\"be_sp\"].apply(pd.Series), ml_vs_be[\"ml_sp\"].apply(pd.Series)], axis=1)\n",
    "ml_vs_be = ml_vs_be.T.drop_duplicates().T"
   ]
  },
  {
   "cell_type": "markdown",
   "metadata": {},
   "source": [
    "### Splitting results based on edit distance in both spellchecker ML and BE"
   ]
  },
  {
   "cell_type": "code",
   "execution_count": 22,
   "metadata": {},
   "outputs": [],
   "source": [
    "result_ed3 = ml_vs_be[ml_vs_be['edit_dist'] == 3]\n",
    "result_ed2 = ml_vs_be[ml_vs_be['edit_dist'] == 2]\n",
    "result_ed1 = ml_vs_be[ml_vs_be['edit_dist'] == 1]"
   ]
  },
  {
   "cell_type": "code",
   "execution_count": 23,
   "metadata": {},
   "outputs": [
    {
     "data": {
      "text/html": [
       "<div>\n",
       "<style scoped>\n",
       "    .dataframe tbody tr th:only-of-type {\n",
       "        vertical-align: middle;\n",
       "    }\n",
       "\n",
       "    .dataframe tbody tr th {\n",
       "        vertical-align: top;\n",
       "    }\n",
       "\n",
       "    .dataframe thead th {\n",
       "        text-align: right;\n",
       "    }\n",
       "</style>\n",
       "<table border=\"1\" class=\"dataframe\">\n",
       "  <thead>\n",
       "    <tr style=\"text-align: right;\">\n",
       "      <th></th>\n",
       "      <th>actual</th>\n",
       "      <th>noisy</th>\n",
       "      <th>edit_dist</th>\n",
       "      <th>be_predicted</th>\n",
       "      <th>ml_predicted</th>\n",
       "    </tr>\n",
       "  </thead>\n",
       "  <tbody>\n",
       "    <tr>\n",
       "      <th>10</th>\n",
       "      <td>heizluefter</td>\n",
       "      <td>heizlufeter</td>\n",
       "      <td>3</td>\n",
       "      <td>heizluefter</td>\n",
       "      <td>heizluefter</td>\n",
       "    </tr>\n",
       "    <tr>\n",
       "      <th>21</th>\n",
       "      <td>drahtwiderstand</td>\n",
       "      <td>drahtwidersatnd</td>\n",
       "      <td>3</td>\n",
       "      <td>drahtwiderstand</td>\n",
       "      <td>drahtwiderstand</td>\n",
       "    </tr>\n",
       "    <tr>\n",
       "      <th>22</th>\n",
       "      <td>krippenbeleuchtung</td>\n",
       "      <td>kripenbeeuchung</td>\n",
       "      <td>3</td>\n",
       "      <td>None</td>\n",
       "      <td>krippenbeleuchtung</td>\n",
       "    </tr>\n",
       "    <tr>\n",
       "      <th>28</th>\n",
       "      <td>neonroehren</td>\n",
       "      <td>noenroehren</td>\n",
       "      <td>3</td>\n",
       "      <td>neonroehren</td>\n",
       "      <td>neonroehren</td>\n",
       "    </tr>\n",
       "    <tr>\n",
       "      <th>44</th>\n",
       "      <td>ueberwachungskameras</td>\n",
       "      <td>uebfrwachurngskacmeras</td>\n",
       "      <td>3</td>\n",
       "      <td>None</td>\n",
       "      <td>ueberwachungskameras</td>\n",
       "    </tr>\n",
       "  </tbody>\n",
       "</table>\n",
       "</div>"
      ],
      "text/plain": [
       "                  actual                   noisy edit_dist     be_predicted  \\\n",
       "10           heizluefter             heizlufeter         3      heizluefter   \n",
       "21       drahtwiderstand         drahtwidersatnd         3  drahtwiderstand   \n",
       "22    krippenbeleuchtung         kripenbeeuchung         3             None   \n",
       "28           neonroehren             noenroehren         3      neonroehren   \n",
       "44  ueberwachungskameras  uebfrwachurngskacmeras         3             None   \n",
       "\n",
       "            ml_predicted  \n",
       "10           heizluefter  \n",
       "21       drahtwiderstand  \n",
       "22    krippenbeleuchtung  \n",
       "28           neonroehren  \n",
       "44  ueberwachungskameras  "
      ]
     },
     "execution_count": 23,
     "metadata": {},
     "output_type": "execute_result"
    }
   ],
   "source": [
    "result_ed3.head()"
   ]
  },
  {
   "cell_type": "code",
   "execution_count": null,
   "metadata": {},
   "outputs": [],
   "source": [
    "columns = ['actual', 'be_predicted', 'ml_predicted']\n",
    "\n",
    "result_ed1['label_be'], result_ed1['label_ml'] = zip(*result_ed1.apply(lambda x: evaluation.create_label(x[columns]), axis='columns'))\n",
    "result_ed2['label_be'], result_ed2['label_ml'] = zip(*result_ed2.apply(lambda x: evaluation.create_label(x[columns]), axis='columns'))\n",
    "result_ed3['label_be'], result_ed3['label_ml'] = zip(*result_ed3.apply(lambda x: evaluation.create_label(x[columns]), axis='columns'))"
   ]
  },
  {
   "cell_type": "code",
   "execution_count": 25,
   "metadata": {},
   "outputs": [
    {
     "data": {
      "text/html": [
       "<div>\n",
       "<style scoped>\n",
       "    .dataframe tbody tr th:only-of-type {\n",
       "        vertical-align: middle;\n",
       "    }\n",
       "\n",
       "    .dataframe tbody tr th {\n",
       "        vertical-align: top;\n",
       "    }\n",
       "\n",
       "    .dataframe thead th {\n",
       "        text-align: right;\n",
       "    }\n",
       "</style>\n",
       "<table border=\"1\" class=\"dataframe\">\n",
       "  <thead>\n",
       "    <tr style=\"text-align: right;\">\n",
       "      <th></th>\n",
       "      <th>actual</th>\n",
       "      <th>noisy</th>\n",
       "      <th>edit_dist</th>\n",
       "      <th>be_predicted</th>\n",
       "      <th>ml_predicted</th>\n",
       "      <th>label_be</th>\n",
       "      <th>label_ml</th>\n",
       "    </tr>\n",
       "  </thead>\n",
       "  <tbody>\n",
       "    <tr>\n",
       "      <th>10</th>\n",
       "      <td>heizluefter</td>\n",
       "      <td>heizlufeter</td>\n",
       "      <td>3</td>\n",
       "      <td>heizluefter</td>\n",
       "      <td>heizluefter</td>\n",
       "      <td>1</td>\n",
       "      <td>1</td>\n",
       "    </tr>\n",
       "    <tr>\n",
       "      <th>21</th>\n",
       "      <td>drahtwiderstand</td>\n",
       "      <td>drahtwidersatnd</td>\n",
       "      <td>3</td>\n",
       "      <td>drahtwiderstand</td>\n",
       "      <td>drahtwiderstand</td>\n",
       "      <td>1</td>\n",
       "      <td>1</td>\n",
       "    </tr>\n",
       "    <tr>\n",
       "      <th>22</th>\n",
       "      <td>krippenbeleuchtung</td>\n",
       "      <td>kripenbeeuchung</td>\n",
       "      <td>3</td>\n",
       "      <td>None</td>\n",
       "      <td>krippenbeleuchtung</td>\n",
       "      <td>0</td>\n",
       "      <td>1</td>\n",
       "    </tr>\n",
       "    <tr>\n",
       "      <th>28</th>\n",
       "      <td>neonroehren</td>\n",
       "      <td>noenroehren</td>\n",
       "      <td>3</td>\n",
       "      <td>neonroehren</td>\n",
       "      <td>neonroehren</td>\n",
       "      <td>1</td>\n",
       "      <td>1</td>\n",
       "    </tr>\n",
       "    <tr>\n",
       "      <th>44</th>\n",
       "      <td>ueberwachungskameras</td>\n",
       "      <td>uebfrwachurngskacmeras</td>\n",
       "      <td>3</td>\n",
       "      <td>None</td>\n",
       "      <td>ueberwachungskameras</td>\n",
       "      <td>0</td>\n",
       "      <td>1</td>\n",
       "    </tr>\n",
       "  </tbody>\n",
       "</table>\n",
       "</div>"
      ],
      "text/plain": [
       "                  actual                   noisy edit_dist     be_predicted  \\\n",
       "10           heizluefter             heizlufeter         3      heizluefter   \n",
       "21       drahtwiderstand         drahtwidersatnd         3  drahtwiderstand   \n",
       "22    krippenbeleuchtung         kripenbeeuchung         3             None   \n",
       "28           neonroehren             noenroehren         3      neonroehren   \n",
       "44  ueberwachungskameras  uebfrwachurngskacmeras         3             None   \n",
       "\n",
       "            ml_predicted  label_be  label_ml  \n",
       "10           heizluefter         1         1  \n",
       "21       drahtwiderstand         1         1  \n",
       "22    krippenbeleuchtung         0         1  \n",
       "28           neonroehren         1         1  \n",
       "44  ueberwachungskameras         0         1  "
      ]
     },
     "execution_count": 25,
     "metadata": {},
     "output_type": "execute_result"
    }
   ],
   "source": [
    "result_ed3.head()"
   ]
  },
  {
   "cell_type": "code",
   "execution_count": 26,
   "metadata": {},
   "outputs": [],
   "source": [
    "def get_results(results_edit_dist, edit_dist):\n",
    "    val = {'Edit Distance': edit_dist}\n",
    "    for model_name in ['ml', 'be']:\n",
    "        res = round(len(\n",
    "            results_edit_dist[results_edit_dist[f'label_{model_name}'] == 1]\n",
    "        ) / len(results_edit_dist), 2)\n",
    "        val[model_name.upper()] = res\n",
    "        print(f'Performance of {model_name.upper()} Spellchecker over ed {edit_dist} = {res}')\n",
    "    return val"
   ]
  },
  {
   "cell_type": "code",
   "execution_count": 27,
   "metadata": {},
   "outputs": [
    {
     "name": "stdout",
     "output_type": "stream",
     "text": [
      "Performance of ML Spellchecker over ed 1 = 0.77\n",
      "Performance of BE Spellchecker over ed 1 = 0.54\n",
      "Performance of ML Spellchecker over ed 2 = 0.87\n",
      "Performance of BE Spellchecker over ed 2 = 0.44\n",
      "Performance of ML Spellchecker over ed 3 = 0.91\n",
      "Performance of BE Spellchecker over ed 3 = 0.5\n"
     ]
    }
   ],
   "source": [
    "dict_res = []\n",
    "val = get_results(result_ed1, 1)\n",
    "dict_res.append(val)\n",
    "\n",
    "val = get_results(result_ed2, 2)\n",
    "dict_res.append(val)\n",
    "\n",
    "val = get_results(result_ed3, 3)\n",
    "dict_res.append(val)"
   ]
  },
  {
   "cell_type": "code",
   "execution_count": 28,
   "metadata": {},
   "outputs": [
    {
     "data": {
      "text/html": [
       "<div>\n",
       "<style scoped>\n",
       "    .dataframe tbody tr th:only-of-type {\n",
       "        vertical-align: middle;\n",
       "    }\n",
       "\n",
       "    .dataframe tbody tr th {\n",
       "        vertical-align: top;\n",
       "    }\n",
       "\n",
       "    .dataframe thead th {\n",
       "        text-align: right;\n",
       "    }\n",
       "</style>\n",
       "<table border=\"1\" class=\"dataframe\">\n",
       "  <thead>\n",
       "    <tr style=\"text-align: right;\">\n",
       "      <th></th>\n",
       "      <th>Edit Distance</th>\n",
       "      <th>ML</th>\n",
       "      <th>BE</th>\n",
       "    </tr>\n",
       "  </thead>\n",
       "  <tbody>\n",
       "    <tr>\n",
       "      <th>0</th>\n",
       "      <td>1</td>\n",
       "      <td>0.77</td>\n",
       "      <td>0.54</td>\n",
       "    </tr>\n",
       "    <tr>\n",
       "      <th>1</th>\n",
       "      <td>2</td>\n",
       "      <td>0.87</td>\n",
       "      <td>0.44</td>\n",
       "    </tr>\n",
       "    <tr>\n",
       "      <th>2</th>\n",
       "      <td>3</td>\n",
       "      <td>0.91</td>\n",
       "      <td>0.50</td>\n",
       "    </tr>\n",
       "  </tbody>\n",
       "</table>\n",
       "</div>"
      ],
      "text/plain": [
       "   Edit Distance    ML    BE\n",
       "0              1  0.77  0.54\n",
       "1              2  0.87  0.44\n",
       "2              3  0.91  0.50"
      ]
     },
     "execution_count": 28,
     "metadata": {},
     "output_type": "execute_result"
    }
   ],
   "source": [
    "pd.DataFrame(dict_res)"
   ]
  },
  {
   "cell_type": "code",
   "execution_count": null,
   "metadata": {},
   "outputs": [],
   "source": []
  }
 ],
 "metadata": {
  "interpreter": {
   "hash": "61d19ce33e4914c17a329e323ca38aa6e65f20c7d6c51afa46b779e9e022c32b"
  },
  "kernelspec": {
   "display_name": "Python 3.8.12 ('spellchecker')",
   "language": "python",
   "name": "python3"
  },
  "language_info": {
   "codemirror_mode": {
    "name": "ipython",
    "version": 3
   },
   "file_extension": ".py",
   "mimetype": "text/x-python",
   "name": "python",
   "nbconvert_exporter": "python",
   "pygments_lexer": "ipython3",
   "version": "3.8.12"
  }
 },
 "nbformat": 4,
 "nbformat_minor": 4
}
